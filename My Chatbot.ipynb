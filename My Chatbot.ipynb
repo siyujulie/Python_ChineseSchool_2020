{
 "cells": [
  {
   "cell_type": "code",
   "execution_count": null,
   "metadata": {},
   "outputs": [],
   "source": [
    "def introduce_myself():\n",
    "    Name=input('What is your name?')\n",
    "    print('Nice to meet you, '+Name+'!')\n",
    "    Food=input('What is your favorite food ?')\n",
    "    print('hmm ~~ I love '+Food +' too ! That is yummy!!')\n",
    "    Book=input('What is your favorite book? ')\n",
    "    print('Really? I liked '+Book +' too!')\n",
    "    Animal=input('What is your favorite animal? ')\n",
    "    print(''+Animal +'? That is cool!')\n",
    "    Color=input('What is your favorite color? ')\n",
    "    print('That is my favorite '+Color +' too! ')\n",
    "    Feeling=input('How are you feeling today?')\n",
    "    print('Why are you feeling '+Feeling,'now?')\n",
    "    reason=input('Please tell me..')\n",
    "    print('I understand ! Thanks for sharing')\n",
    "    print('Goodbye',Name,'!I liked chatting with you ! ')"
   ]
  }
 ],
 "metadata": {
  "kernelspec": {
   "display_name": "Python 3",
   "language": "python",
   "name": "python3"
  },
  "language_info": {
   "codemirror_mode": {
    "name": "ipython",
    "version": 3
   },
   "file_extension": ".py",
   "mimetype": "text/x-python",
   "name": "python",
   "nbconvert_exporter": "python",
   "pygments_lexer": "ipython3",
   "version": "3.7.6"
  }
 },
 "nbformat": 4,
 "nbformat_minor": 4
}
